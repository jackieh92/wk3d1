{
 "cells": [
  {
   "cell_type": "markdown",
   "metadata": {},
   "source": [
    "# Advanced Object-Oriented-Programming (OOP)"
   ]
  },
  {
   "cell_type": "markdown",
   "metadata": {},
   "source": [
    "## Tasks Today:\n",
    "\n",
    "1) <b>Creating Multiple Instances Through Loops</b> <br>\n",
    " &nbsp;&nbsp;&nbsp;&nbsp; a) Using Loops <br>\n",
    " &nbsp;&nbsp;&nbsp;&nbsp; b) Using Multiple Lists with Loops <br>\n",
    " &nbsp;&nbsp;&nbsp;&nbsp; c) Using List Comprehension with Classes<br>\n",
    " &nbsp;&nbsp;&nbsp;&nbsp; d) In-Class Exercise #1 <br>\n",
    "2) <b>Magic Methods</b> <br>\n",
    " &nbsp;&nbsp;&nbsp;&nbsp; a) \\__str\\__ <br>\n",
    " &nbsp;&nbsp;&nbsp;&nbsp; b) \\__add\\__ <br>\n",
    " &nbsp;&nbsp;&nbsp;&nbsp; c) Overriding Magic Methods <br>\n",
    " &nbsp;&nbsp;&nbsp;&nbsp; d) In-Class Exercise #2 <br>\n",
    "3) <b>Inheritance & Method Overriding (recap)</b> <br>\n",
    " &nbsp;&nbsp;&nbsp;&nbsp; a) Inheriting (recap)  <br>\n",
    " &nbsp;&nbsp;&nbsp;&nbsp; b) Overriding Inherited Magic Methods <br>\n",
    " &nbsp;&nbsp;&nbsp;&nbsp; c) Inheriting Multiple Classes <br>\n",
    " &nbsp;&nbsp;&nbsp;&nbsp; d) In-Class Exercise #3 <br>"
   ]
  },
  {
   "cell_type": "markdown",
   "metadata": {},
   "source": [
    "## Creating Multiple Instances Through Loops <br>\n",
    "<p>We can use loops to create multiple instances of a single object in just a couple of lines, even just one line.</p>"
   ]
  },
  {
   "cell_type": "markdown",
   "metadata": {},
   "source": [
    "#### Using Loops"
   ]
  },
  {
   "cell_type": "code",
   "execution_count": 12,
   "metadata": {},
   "outputs": [
    {
     "name": "stdout",
     "output_type": "stream",
     "text": [
      "lassie had 4 legs\n",
      "Max had 4 legs\n",
      "Max had 0 legs\n",
      "Max had 1 legs\n",
      "Max had 2 legs\n",
      "Max had 3 legs\n",
      "Max had 4 legs\n"
     ]
    }
   ],
   "source": [
    "class Dog():\n",
    "    def __init__(self,name,legs):\n",
    "        self.name = name\n",
    "        self.legs = legs\n",
    "    def printInfo(self):\n",
    "        print(f\"{self.name} had {self.legs} legs\")\n",
    "        \n",
    "# multiple instances assigned into different variables\n",
    "dog1 = Dog(\"lassie\", 4)\n",
    "dog2 = Dog(\"Max\", 4)\n",
    "\n",
    "dog1.printInfo()\n",
    "dog2.printInfo()\n",
    "\n",
    "# empty list that will hold all dog instances\n",
    "dogs = []\n",
    "\n",
    "for i in range(5):\n",
    "    dogs.append(Dog(\"Max\", i))\n",
    "\n",
    "for i in range(len(dogs)):\n",
    "    dogs[i].printInfo()"
   ]
  },
  {
   "cell_type": "markdown",
   "metadata": {},
   "source": [
    "#### Using Multiple Lists with Loops"
   ]
  },
  {
   "cell_type": "code",
   "execution_count": 16,
   "metadata": {},
   "outputs": [
    {
     "name": "stdout",
     "output_type": "stream",
     "text": [
      "max had 4 legs\n",
      "sam had 4 legs\n",
      "clifford had 4 legs\n",
      "lassie had 4 legs\n",
      "butch had 4 legs\n"
     ]
    }
   ],
   "source": [
    "names = [\"max\", \"sam\", \"clifford\", \"lassie\", \"butch\"]\n",
    "dogs_list = []\n",
    "\n",
    "for i in range(len(names)):\n",
    "    dogs_list.append(Dog(names[i],4))\n",
    "for i in range(len(dogs_list)):\n",
    "    dogs_list[i].printInfo()"
   ]
  },
  {
   "cell_type": "markdown",
   "metadata": {},
   "source": [
    "#### Using List Comprehension with Classes"
   ]
  },
  {
   "cell_type": "code",
   "execution_count": 18,
   "metadata": {},
   "outputs": [
    {
     "name": "stdout",
     "output_type": "stream",
     "text": [
      "max had 4 legs\n",
      "sam had 4 legs\n",
      "clifford had 4 legs\n",
      "lassie had 4 legs\n",
      "butch had 4 legs\n"
     ]
    }
   ],
   "source": [
    "# Making a new list called dogs and calling upon the class (not sure why because you have the list \n",
    "# of names outside of the class.. but for every dog name in names they have four legs. Is i the names\n",
    "# and the 4 is calling upon the legs for the class? just not sure how it got there... and then\n",
    "# doing so for the length of the list names)\n",
    "dogs = [Dog(names[i],4) for i in range(len(names))]\n",
    "\n",
    "for dog in dogs:\n",
    "    dog.printInfo()"
   ]
  },
  {
   "cell_type": "markdown",
   "metadata": {},
   "source": [
    "#### In-Class Exercise #1 - Use List Comprehension to create multiple 'Dog' objects using the lists below... <br>\n",
    "<p>names = ['max', 'lassy', 'sammi']<br>colors=['brown', 'black', 'mix']</p>"
   ]
  },
  {
   "cell_type": "code",
   "execution_count": 31,
   "metadata": {},
   "outputs": [
    {
     "name": "stdout",
     "output_type": "stream",
     "text": [
      "max has a <built-in method title of str object at 0x00DEC420> coat\n",
      "lassy has a <built-in method title of str object at 0x03541BA0> coat\n",
      "sammi has a <built-in method title of str object at 0x00DEC460> coat\n"
     ]
    }
   ],
   "source": [
    "names = ['max', 'lassy', 'sammi']\n",
    "colors=['brown', 'black', 'mix']\n",
    "\n",
    "class Dog():\n",
    "    def __init__(self,name,color):\n",
    "        self.name = name\n",
    "        self.color = color\n",
    "    def printInfo(self):\n",
    "# why cant we put .title at the end of self.color ?\n",
    "        print(f\"{self.name} has a {self.color} coat\")\n",
    "        \n",
    "\n",
    "\n",
    "# how come we dont have to have for i in range(len(colors)) as well?\n",
    "dogs = [Dog(names[i], colors[i]) for i in range(len(colors))]\n",
    "for dog in dogs:\n",
    "        dog.printInfo()"
   ]
  },
  {
   "cell_type": "markdown",
   "metadata": {},
   "source": [
    "## Magic Methods <br>\n",
    "<p>Magic methods are any method that begins and ends with two underscores... You've already seen one of them in __init__(). Magic methods are the general functionality of an object, and you have the ability to overwrite what those methods do, giving you flexibility in your program.</p>"
   ]
  },
  {
   "cell_type": "markdown",
   "metadata": {},
   "source": [
    "#### \\__str\\__ <br>\n",
    "<p>This is the output of an object when you print the object itself.</p>"
   ]
  },
  {
   "cell_type": "code",
   "execution_count": 37,
   "metadata": {
    "scrolled": true
   },
   "outputs": [
    {
     "name": "stdout",
     "output_type": "stream",
     "text": [
      "Jack is 27 years old and has 10 toes\n",
      "stanley is a dog and is 1 years old.\n"
     ]
    }
   ],
   "source": [
    "class Person():\n",
    "    def __init__(self,name,age,number_of_toes):\n",
    "        self.name = name\n",
    "        self.age = age\n",
    "        self.number_of_toes = number_of_toes\n",
    "    \n",
    "    def __str__(self):\n",
    "        return f\"{self.name} is {self.age} years old and has {self.number_of_toes} toes\"\n",
    "    \n",
    "jack = Person(\"Jack\", \"27\", \"10\")\n",
    "print(jack)\n",
    "\n",
    "\n",
    "class Family():\n",
    "    def __init__(self, name, age, species):\n",
    "        self.name = name\n",
    "        self.age = age\n",
    "        self.species = species\n",
    "    #always has to return a string...nothing else\n",
    "    def __str__(self):\n",
    "        return f\"{self.name} is a {self.species} and is {self.age} years old.\"\n",
    "\n",
    "# So is the __str__ method to print out string that is given to it to print out the instance you just\n",
    "# created?\n",
    "stanley = Family(\"stanley\", \"1\", \"dog\")\n",
    "print(stanley)"
   ]
  },
  {
   "cell_type": "markdown",
   "metadata": {},
   "source": [
    "#### \\__add\\__"
   ]
  },
  {
   "cell_type": "code",
   "execution_count": 43,
   "metadata": {},
   "outputs": [
    {
     "name": "stdout",
     "output_type": "stream",
     "text": [
      "44\n"
     ]
    }
   ],
   "source": [
    "class Cat():\n",
    "    def __init__(self, name, color, legs):\n",
    "        self.name = name\n",
    "        self.color = color\n",
    "        self.legs = legs\n",
    "    def __add__(self, extra_legs):\n",
    "        if type(extra_legs) != int:\n",
    "            return self.legs + extra_legs.legs\n",
    "        else:\n",
    "            return self.legs + extra_legs\n",
    "cat1 = Cat(\"max\", \"mixed\", \"4\")\n",
    "cat2 = Cat(\"gar\", \"orange\", \"4\")\n",
    "\n",
    "num_legs = cat1 + cat2\n",
    "print(num_legs)"
   ]
  },
  {
   "cell_type": "markdown",
   "metadata": {},
   "source": [
    "#### Overriding Magic Methods"
   ]
  },
  {
   "cell_type": "code",
   "execution_count": null,
   "metadata": {},
   "outputs": [],
   "source": [
    "# see above"
   ]
  },
  {
   "cell_type": "markdown",
   "metadata": {},
   "source": [
    "#### In-Class Exercise #2 - Google another magic method and overwrite it's functionality..."
   ]
  },
  {
   "cell_type": "code",
   "execution_count": 65,
   "metadata": {
    "scrolled": true
   },
   "outputs": [
    {
     "name": "stdout",
     "output_type": "stream",
     "text": [
      "False\n",
      "7 is greater\n",
      "None\n"
     ]
    }
   ],
   "source": [
    "# Not sure what exactly overwrite is?\n",
    "# Not sure why mine didnt work\n",
    "class Stanley():\n",
    "    def __init__(self, name, legs):\n",
    "        self.name = name\n",
    "        self.legs = legs\n",
    "    \n",
    "    def __int__(self):\n",
    "        if type(self.legs) != int:\n",
    "            return int(self.legs)\n",
    "    def __eq__(self, extra):\n",
    "        if self.legs == extra.legs:\n",
    "            return True\n",
    "        else:\n",
    "            return False\n",
    "    def __ge__(self, extra):\n",
    "        if self.legs > extra.legs:\n",
    "            print(f\"{self.legs} is greater\")\n",
    "        elif self.legs >= extra.legs:\n",
    "            print(f\"{self.legs} and {extra.legs} are the same\")\n",
    "        else:\n",
    "            return False\n",
    "        \n",
    "        \n",
    "stan_1 = Stanley(\"staniel\", 7)\n",
    "stan_2 = Stanley(\"stanathan\", 5)\n",
    "\n",
    "print(stan_1 == stan_2)\n",
    "print(stan_1 >= stan_2)       \n",
    "        \n",
    "        \n",
    "        \n",
    "        \n",
    "    #def __mult__(self, x):\n",
    "        #if type(x) != int:\n",
    "         #   return self.legs + x.legs\n",
    "        #else:\n",
    "         #   return self.legs + x.legs\n",
    "            \n",
    "    \n",
    "#stan_1 = Stanley(\"stanman\", 4)\n",
    "#stan_2 = Stanley(\"staniel\", 5)\n",
    "\n",
    "#stan_3 = stan_1 + stan_2\n",
    "#print(stan_3)\n",
    "    "
   ]
  },
  {
   "cell_type": "code",
   "execution_count": 61,
   "metadata": {},
   "outputs": [
    {
     "name": "stdout",
     "output_type": "stream",
     "text": [
      "1\n"
     ]
    }
   ],
   "source": [
    "myList = [1]\n",
    "\n",
    "for num in myList:\n",
    "    print(num)"
   ]
  },
  {
   "cell_type": "code",
   "execution_count": 55,
   "metadata": {},
   "outputs": [
    {
     "name": "stdout",
     "output_type": "stream",
     "text": [
      "Help on Dog in module __main__ object:\n",
      "\n",
      "class Dog(builtins.object)\n",
      " |  Dog(name)\n",
      " |  \n",
      " |  Methods defined here:\n",
      " |  \n",
      " |  __init__(self, name)\n",
      " |      Initialize self.  See help(type(self)) for accurate signature.\n",
      " |  \n",
      " |  __repr__(self)\n",
      " |      Return repr(self).\n",
      " |  \n",
      " |  __str__(self)\n",
      " |      Return str(self).\n",
      " |  \n",
      " |  ----------------------------------------------------------------------\n",
      " |  Data descriptors defined here:\n",
      " |  \n",
      " |  __dict__\n",
      " |      dictionary for instance variables (if defined)\n",
      " |  \n",
      " |  __weakref__\n",
      " |      list of weak references to the object (if defined)\n",
      "\n"
     ]
    }
   ],
   "source": [
    "help(d)"
   ]
  },
  {
   "cell_type": "code",
   "execution_count": 46,
   "metadata": {},
   "outputs": [],
   "source": [
    "class Dog:\n",
    "    def __init__(self, name):\n",
    "        self.name = name\n",
    "        \n",
    "    def __str__(self):\n",
    "        return self.name\n",
    "    \n",
    "    def __repr__(self):\n",
    "        return f'<Dog | {self.name}>'"
   ]
  },
  {
   "cell_type": "code",
   "execution_count": 47,
   "metadata": {},
   "outputs": [],
   "source": [
    "d = Dog(\"Lassie\")"
   ]
  },
  {
   "cell_type": "code",
   "execution_count": 48,
   "metadata": {},
   "outputs": [
    {
     "data": {
      "text/plain": [
       "'Lassie'"
      ]
     },
     "execution_count": 48,
     "metadata": {},
     "output_type": "execute_result"
    }
   ],
   "source": [
    "d.name"
   ]
  },
  {
   "cell_type": "code",
   "execution_count": 49,
   "metadata": {},
   "outputs": [
    {
     "name": "stdout",
     "output_type": "stream",
     "text": [
      "Lassie\n"
     ]
    }
   ],
   "source": [
    "print(d)"
   ]
  },
  {
   "cell_type": "code",
   "execution_count": 50,
   "metadata": {
    "scrolled": true
   },
   "outputs": [
    {
     "data": {
      "text/plain": [
       "<Dog | Lassie>"
      ]
     },
     "execution_count": 50,
     "metadata": {},
     "output_type": "execute_result"
    }
   ],
   "source": [
    "d"
   ]
  },
  {
   "cell_type": "code",
   "execution_count": 45,
   "metadata": {},
   "outputs": [
    {
     "data": {
      "text/plain": [
       "'<__main__.Dog object at 0x007AF040>'"
      ]
     },
     "execution_count": 45,
     "metadata": {},
     "output_type": "execute_result"
    }
   ],
   "source": [
    "d.__repr__()"
   ]
  },
  {
   "cell_type": "markdown",
   "metadata": {},
   "source": [
    "## Inheritance & Method Overriding (recap)"
   ]
  },
  {
   "cell_type": "markdown",
   "metadata": {},
   "source": [
    "#### Inheriting (recap)"
   ]
  },
  {
   "cell_type": "code",
   "execution_count": 70,
   "metadata": {},
   "outputs": [
    {
     "name": "stdout",
     "output_type": "stream",
     "text": [
      "This is a Mammal\n",
      "Frank is part of the mammal species\n"
     ]
    }
   ],
   "source": [
    "class Animal():\n",
    "    def __init__(self,species):\n",
    "        self.species = species\n",
    "    \n",
    "    def __str__(self):\n",
    "        return f\"This is a {self.species}\"\n",
    "\n",
    "class Dog(Animal):\n",
    "    def __init__(self,name, species):\n",
    "        self.name = name\n",
    "        Animal.__init__(self,species)\n",
    "        \n",
    "    def __str__(self):\n",
    "        return f\"{self.name} is part of the {self.species} species\"\n",
    "\n",
    "mammal = Animal(\"Mammal\")\n",
    "dog = Dog(\"Frank\", \"mammal\")\n",
    "\n",
    "print(mammal)\n",
    "print(dog)"
   ]
  },
  {
   "cell_type": "markdown",
   "metadata": {},
   "source": [
    "#### Overriding Inherited Magic Methods"
   ]
  },
  {
   "cell_type": "code",
   "execution_count": null,
   "metadata": {},
   "outputs": [],
   "source": [
    "# see above"
   ]
  },
  {
   "cell_type": "markdown",
   "metadata": {},
   "source": [
    "#### Inheriting Multiple Classes"
   ]
  },
  {
   "cell_type": "code",
   "execution_count": 76,
   "metadata": {},
   "outputs": [
    {
     "name": "stdout",
     "output_type": "stream",
     "text": [
      "Bobby is apart of the canine species and runs 30 MPH.\n"
     ]
    }
   ],
   "source": [
    "#dog will inherit from both animal and physics\n",
    "class Physics():\n",
    "    def __init__(self,speed):\n",
    "        self.gravity = 9.8\n",
    "        self.speed = speed\n",
    "class Animal():\n",
    "    def __init__(self,species):\n",
    "        self.species = species\n",
    "    \n",
    "    def __str__(self):\n",
    "        return f\"This is a {self.species}\"\n",
    "\n",
    "class Dog(Animal,Physics):\n",
    "    def __init__(self,species,name,speed):\n",
    "        self.name = name\n",
    "        Animal.__init__(self, species)\n",
    "        Physics.__init__(self, speed)\n",
    "    def __str__(self):\n",
    "        return f\"{self.name} is apart of the {self.species} species and runs {self.speed} MPH.\"\n",
    "\n",
    "dog1 = Dog(\"canine\", \"Bobby\", 30)\n",
    "print(dog1)\n"
   ]
  },
  {
   "cell_type": "markdown",
   "metadata": {},
   "source": [
    "#### Homework Excersise - Create a transportation class, a physics class, and a bus class <br>\n",
    "<p>Create a transportation class, a physics class, and a bus class... Have the Bus class inherit both the transportation class and physics class. The physics class should have an attribute of speed, and print out the speed, plus have an acceleration method. The transportation class should have a 'type_of_transportation' attribute, and print the type(type_of_transportation [i.e road/air]) that is being used. The bus class should have attributes that describe the bus, such as; wheels, color, size, etc. Overwrite the __str__ method so that when you print the object, it prints out the bus information, and the speed.</p>"
   ]
  },
  {
   "cell_type": "code",
   "execution_count": 28,
   "metadata": {},
   "outputs": [
    {
     "name": "stdout",
     "output_type": "stream",
     "text": [
      "This bus goes 20 Mph, transports via the road and has 4 wheels, is yellow, and is considered giant.\n"
     ]
    }
   ],
   "source": [
    "class Physics():\n",
    "    def __init__(self,speed):\n",
    "        self.speed = speed\n",
    "    \n",
    "    def printSpeed(self):\n",
    "        print({self.speed})\n",
    "    \n",
    "    #def accel(self):\n",
    "        \n",
    "    \n",
    "class Transportation():\n",
    "    # I wasnt sure if this is what you meant\n",
    "    acceleration = 20\n",
    "    def __init__(self, type_of_transportation):\n",
    "        self.type_of_transportation = type_of_transportation\n",
    "        \n",
    "    def printTrans(self):\n",
    "        print({self.type_of_transportation})\n",
    "\n",
    "class Bus(Transportation, Physics):\n",
    "    def __init__(self, speed, type_of_transportation, wheels, color, size):\n",
    "        Transportation.__init__(self, type_of_transportation )\n",
    "        Physics.__init__(self,speed)\n",
    "        self.wheels = wheels\n",
    "        self.color = color\n",
    "        self.size = size\n",
    "        \n",
    "    def __str__(self):\n",
    "        return f\"This bus goes {self.speed} Mph, transports via the {self.type_of_transportation} and has {self.wheels} wheels, is {self.color}, and is considered {self.size}.\"\n",
    "        \n",
    "old_yeller = Bus(20, \"road\", 4, \"yellow\", \"giant\" )\n",
    "\n",
    "print(old_yeller) "
   ]
  }
 ],
 "metadata": {
  "kernelspec": {
   "display_name": "Python 3",
   "language": "python",
   "name": "python3"
  },
  "language_info": {
   "codemirror_mode": {
    "name": "ipython",
    "version": 3
   },
   "file_extension": ".py",
   "mimetype": "text/x-python",
   "name": "python",
   "nbconvert_exporter": "python",
   "pygments_lexer": "ipython3",
   "version": "3.8.2"
  }
 },
 "nbformat": 4,
 "nbformat_minor": 2
}
